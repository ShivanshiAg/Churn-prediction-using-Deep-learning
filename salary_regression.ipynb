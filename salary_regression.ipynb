{
 "cells": [
  {
   "cell_type": "code",
   "execution_count": 1,
   "id": "f0f1c3f6",
   "metadata": {},
   "outputs": [],
   "source": [
    "import pandas as pd\n",
    "import pickle\n",
    "from sklearn.preprocessing import StandardScaler, LabelEncoder, OneHotEncoder\n",
    "from sklearn.model_selection import train_test_split"
   ]
  },
  {
   "cell_type": "code",
   "execution_count": 2,
   "id": "ee5c588d",
   "metadata": {},
   "outputs": [
    {
     "data": {
      "text/html": [
       "<div>\n",
       "<style scoped>\n",
       "    .dataframe tbody tr th:only-of-type {\n",
       "        vertical-align: middle;\n",
       "    }\n",
       "\n",
       "    .dataframe tbody tr th {\n",
       "        vertical-align: top;\n",
       "    }\n",
       "\n",
       "    .dataframe thead th {\n",
       "        text-align: right;\n",
       "    }\n",
       "</style>\n",
       "<table border=\"1\" class=\"dataframe\">\n",
       "  <thead>\n",
       "    <tr style=\"text-align: right;\">\n",
       "      <th></th>\n",
       "      <th>RowNumber</th>\n",
       "      <th>CustomerId</th>\n",
       "      <th>Surname</th>\n",
       "      <th>CreditScore</th>\n",
       "      <th>Geography</th>\n",
       "      <th>Gender</th>\n",
       "      <th>Age</th>\n",
       "      <th>Tenure</th>\n",
       "      <th>Balance</th>\n",
       "      <th>NumOfProducts</th>\n",
       "      <th>HasCrCard</th>\n",
       "      <th>IsActiveMember</th>\n",
       "      <th>EstimatedSalary</th>\n",
       "      <th>Exited</th>\n",
       "    </tr>\n",
       "  </thead>\n",
       "  <tbody>\n",
       "    <tr>\n",
       "      <th>0</th>\n",
       "      <td>1</td>\n",
       "      <td>15634602</td>\n",
       "      <td>Hargrave</td>\n",
       "      <td>619</td>\n",
       "      <td>France</td>\n",
       "      <td>Female</td>\n",
       "      <td>42</td>\n",
       "      <td>2</td>\n",
       "      <td>0.00</td>\n",
       "      <td>1</td>\n",
       "      <td>1</td>\n",
       "      <td>1</td>\n",
       "      <td>101348.88</td>\n",
       "      <td>1</td>\n",
       "    </tr>\n",
       "    <tr>\n",
       "      <th>1</th>\n",
       "      <td>2</td>\n",
       "      <td>15647311</td>\n",
       "      <td>Hill</td>\n",
       "      <td>608</td>\n",
       "      <td>Spain</td>\n",
       "      <td>Female</td>\n",
       "      <td>41</td>\n",
       "      <td>1</td>\n",
       "      <td>83807.86</td>\n",
       "      <td>1</td>\n",
       "      <td>0</td>\n",
       "      <td>1</td>\n",
       "      <td>112542.58</td>\n",
       "      <td>0</td>\n",
       "    </tr>\n",
       "    <tr>\n",
       "      <th>2</th>\n",
       "      <td>3</td>\n",
       "      <td>15619304</td>\n",
       "      <td>Onio</td>\n",
       "      <td>502</td>\n",
       "      <td>France</td>\n",
       "      <td>Female</td>\n",
       "      <td>42</td>\n",
       "      <td>8</td>\n",
       "      <td>159660.80</td>\n",
       "      <td>3</td>\n",
       "      <td>1</td>\n",
       "      <td>0</td>\n",
       "      <td>113931.57</td>\n",
       "      <td>1</td>\n",
       "    </tr>\n",
       "    <tr>\n",
       "      <th>3</th>\n",
       "      <td>4</td>\n",
       "      <td>15701354</td>\n",
       "      <td>Boni</td>\n",
       "      <td>699</td>\n",
       "      <td>France</td>\n",
       "      <td>Female</td>\n",
       "      <td>39</td>\n",
       "      <td>1</td>\n",
       "      <td>0.00</td>\n",
       "      <td>2</td>\n",
       "      <td>0</td>\n",
       "      <td>0</td>\n",
       "      <td>93826.63</td>\n",
       "      <td>0</td>\n",
       "    </tr>\n",
       "    <tr>\n",
       "      <th>4</th>\n",
       "      <td>5</td>\n",
       "      <td>15737888</td>\n",
       "      <td>Mitchell</td>\n",
       "      <td>850</td>\n",
       "      <td>Spain</td>\n",
       "      <td>Female</td>\n",
       "      <td>43</td>\n",
       "      <td>2</td>\n",
       "      <td>125510.82</td>\n",
       "      <td>1</td>\n",
       "      <td>1</td>\n",
       "      <td>1</td>\n",
       "      <td>79084.10</td>\n",
       "      <td>0</td>\n",
       "    </tr>\n",
       "  </tbody>\n",
       "</table>\n",
       "</div>"
      ],
      "text/plain": [
       "   RowNumber  CustomerId   Surname  CreditScore Geography  Gender  Age  \\\n",
       "0          1    15634602  Hargrave          619    France  Female   42   \n",
       "1          2    15647311      Hill          608     Spain  Female   41   \n",
       "2          3    15619304      Onio          502    France  Female   42   \n",
       "3          4    15701354      Boni          699    France  Female   39   \n",
       "4          5    15737888  Mitchell          850     Spain  Female   43   \n",
       "\n",
       "   Tenure    Balance  NumOfProducts  HasCrCard  IsActiveMember  \\\n",
       "0       2       0.00              1          1               1   \n",
       "1       1   83807.86              1          0               1   \n",
       "2       8  159660.80              3          1               0   \n",
       "3       1       0.00              2          0               0   \n",
       "4       2  125510.82              1          1               1   \n",
       "\n",
       "   EstimatedSalary  Exited  \n",
       "0        101348.88       1  \n",
       "1        112542.58       0  \n",
       "2        113931.57       1  \n",
       "3         93826.63       0  \n",
       "4         79084.10       0  "
      ]
     },
     "execution_count": 2,
     "metadata": {},
     "output_type": "execute_result"
    }
   ],
   "source": [
    "data = pd.read_csv('Churn_Modelling.csv')\n",
    "data.head()"
   ]
  },
  {
   "cell_type": "code",
   "execution_count": 3,
   "id": "8caad30f",
   "metadata": {},
   "outputs": [],
   "source": [
    "data= data.drop(['RowNumber','CustomerId','Surname'], axis =1)"
   ]
  },
  {
   "cell_type": "code",
   "execution_count": 5,
   "id": "4bb4621c",
   "metadata": {},
   "outputs": [],
   "source": [
    "# Encode categorical variables\n",
    "encode_gender= LabelEncoder()\n",
    "data['Gender']= encode_gender.fit_transform(data['Gender'])"
   ]
  },
  {
   "cell_type": "code",
   "execution_count": 6,
   "id": "421923e9",
   "metadata": {},
   "outputs": [],
   "source": [
    "# encode geography\n",
    "encode_geo= OneHotEncoder(handle_unknown='ignore')\n",
    "geo_encoded=encode_geo.fit_transform(data[['Geography']]).toarray()\n",
    "geo_encoded_df= pd.DataFrame(geo_encoded, columns=encode_geo.get_feature_names_out(['Geography']))"
   ]
  },
  {
   "cell_type": "code",
   "execution_count": 8,
   "id": "4c48aa3b",
   "metadata": {},
   "outputs": [],
   "source": [
    "data=pd.concat([data.drop('Geography', axis=1),geo_encoded_df], axis=1)"
   ]
  },
  {
   "cell_type": "code",
   "execution_count": 11,
   "id": "9f5bc82f",
   "metadata": {},
   "outputs": [],
   "source": [
    "#Split into independent and dependent features\n",
    "X= data.drop('EstimatedSalary', axis=1)\n",
    "Y= data['EstimatedSalary']\n"
   ]
  },
  {
   "cell_type": "code",
   "execution_count": 13,
   "id": "8f2f06de",
   "metadata": {},
   "outputs": [],
   "source": [
    "#Split the data for training and testing\n",
    "X_train, X_test, Y_train,Y_test = train_test_split(X,Y,test_size=0.2,random_state=42)"
   ]
  },
  {
   "cell_type": "code",
   "execution_count": 14,
   "id": "d1ef98a7",
   "metadata": {},
   "outputs": [],
   "source": [
    "#Scaling the numerical features\n",
    "scaler=StandardScaler()\n",
    "X_train=scaler.fit_transform(X_train)\n",
    "X_test=scaler.transform(X_test)"
   ]
  },
  {
   "cell_type": "code",
   "execution_count": 15,
   "id": "4daaeb6b",
   "metadata": {},
   "outputs": [],
   "source": [
    "# Save encoders and scaler for later use\n",
    "with open('label_encoder_gender.pkl','wb') as file:\n",
    "    pickle.dump(encode_gender,file)\n",
    "\n",
    "with open('onehot_encoder_geo.pkl','wb') as file:\n",
    "    pickle.dump(encode_geo,file)\n",
    "\n",
    "with open('scaler.pkl','wb') as file:\n",
    "    pickle.dump(scaler,file)"
   ]
  },
  {
   "cell_type": "markdown",
   "id": "bb2dddd0",
   "metadata": {},
   "source": [
    "# ANN Regression "
   ]
  },
  {
   "cell_type": "code",
   "execution_count": 16,
   "id": "c4f982c4",
   "metadata": {},
   "outputs": [],
   "source": [
    "import tensorflow\n",
    "from tensorflow.keras.models import Sequential\n",
    "from tensorflow.keras.layers import Dense"
   ]
  },
  {
   "cell_type": "code",
   "execution_count": 19,
   "id": "8af8c0b7",
   "metadata": {},
   "outputs": [],
   "source": [
    "model= Sequential([\n",
    "    Dense(64,activation='relu', input_shape=(X_train.shape[1],)),\n",
    "    Dense(32,activation='relu'),\n",
    "    Dense(1) # Output Layer for Regression (activation function default: linear)\n",
    "])"
   ]
  },
  {
   "cell_type": "code",
   "execution_count": 21,
   "id": "1efe44d2",
   "metadata": {},
   "outputs": [
    {
     "name": "stdout",
     "output_type": "stream",
     "text": [
      "Model: \"sequential_2\"\n",
      "_________________________________________________________________\n",
      " Layer (type)                Output Shape              Param #   \n",
      "=================================================================\n",
      " dense_6 (Dense)             (None, 64)                832       \n",
      "                                                                 \n",
      " dense_7 (Dense)             (None, 32)                2080      \n",
      "                                                                 \n",
      " dense_8 (Dense)             (None, 1)                 33        \n",
      "                                                                 \n",
      "=================================================================\n",
      "Total params: 2945 (11.50 KB)\n",
      "Trainable params: 2945 (11.50 KB)\n",
      "Non-trainable params: 0 (0.00 Byte)\n",
      "_________________________________________________________________\n"
     ]
    }
   ],
   "source": [
    "#Compile model\n",
    "model.compile(optimizer='adam',loss='mean_absolute_error',metrics=['mae'])\n",
    "model.summary()"
   ]
  },
  {
   "cell_type": "code",
   "execution_count": 22,
   "id": "d21d49b5",
   "metadata": {},
   "outputs": [],
   "source": [
    "# Setup Tensorboard for training\n",
    "from tensorflow.keras.callbacks import EarlyStopping, TensorBoard\n",
    "import datetime"
   ]
  },
  {
   "cell_type": "code",
   "execution_count": 23,
   "id": "662ad70c",
   "metadata": {},
   "outputs": [],
   "source": [
    "log_dir = \"regressionlogs/fit/\" + datetime.datetime.now().strftime(\"%Y%m%d-%H%M%S\")\n",
    "tensorboard_callback = TensorBoard(log_dir=log_dir, histogram_freq=1)"
   ]
  },
  {
   "cell_type": "code",
   "execution_count": 24,
   "id": "97abfeff",
   "metadata": {},
   "outputs": [],
   "source": [
    "# Setup earlystopping\n",
    "early_stopping_callback = EarlyStopping(monitor='val_loss', patience=10, restore_best_weights=True)"
   ]
  },
  {
   "cell_type": "code",
   "execution_count": 25,
   "id": "858e1956",
   "metadata": {},
   "outputs": [
    {
     "name": "stdout",
     "output_type": "stream",
     "text": [
      "Epoch 1/100\n",
      "WARNING:tensorflow:From c:\\Users\\iamsh\\Python\\envs\\denv\\lib\\site-packages\\keras\\src\\utils\\tf_utils.py:492: The name tf.ragged.RaggedTensorValue is deprecated. Please use tf.compat.v1.ragged.RaggedTensorValue instead.\n",
      "\n",
      "WARNING:tensorflow:From c:\\Users\\iamsh\\Python\\envs\\denv\\lib\\site-packages\\keras\\src\\engine\\base_layer_utils.py:384: The name tf.executing_eagerly_outside_functions is deprecated. Please use tf.compat.v1.executing_eagerly_outside_functions instead.\n",
      "\n",
      "250/250 [==============================] - 2s 4ms/step - loss: 100367.6328 - mae: 100367.6328 - val_loss: 98477.4844 - val_mae: 98477.4844\n",
      "Epoch 2/100\n",
      "250/250 [==============================] - 1s 3ms/step - loss: 99477.0078 - mae: 99477.0078 - val_loss: 96685.1250 - val_mae: 96685.1250\n",
      "Epoch 3/100\n",
      "250/250 [==============================] - 1s 2ms/step - loss: 96350.4766 - mae: 96350.4766 - val_loss: 92074.9766 - val_mae: 92074.9766\n",
      "Epoch 4/100\n",
      "250/250 [==============================] - 1s 3ms/step - loss: 90174.2188 - mae: 90174.2188 - val_loss: 84441.2422 - val_mae: 84441.2422\n",
      "Epoch 5/100\n",
      "250/250 [==============================] - 0s 2ms/step - loss: 81303.8984 - mae: 81303.8984 - val_loss: 74868.6016 - val_mae: 74868.6016\n",
      "Epoch 6/100\n",
      "250/250 [==============================] - 1s 2ms/step - loss: 71321.7109 - mae: 71321.7109 - val_loss: 65513.8008 - val_mae: 65513.8008\n",
      "Epoch 7/100\n",
      "250/250 [==============================] - 1s 3ms/step - loss: 62393.9531 - mae: 62393.9531 - val_loss: 58080.8984 - val_mae: 58080.8984\n",
      "Epoch 8/100\n",
      "250/250 [==============================] - 1s 3ms/step - loss: 56058.3672 - mae: 56058.3672 - val_loss: 53554.8867 - val_mae: 53554.8867\n",
      "Epoch 9/100\n",
      "250/250 [==============================] - 1s 3ms/step - loss: 52440.8789 - mae: 52440.8789 - val_loss: 51459.3672 - val_mae: 51459.3672\n",
      "Epoch 10/100\n",
      "250/250 [==============================] - 1s 2ms/step - loss: 50874.6641 - mae: 50874.6641 - val_loss: 50792.3867 - val_mae: 50792.3867\n",
      "Epoch 11/100\n",
      "250/250 [==============================] - 1s 2ms/step - loss: 50326.2305 - mae: 50326.2305 - val_loss: 50608.3789 - val_mae: 50608.3789\n",
      "Epoch 12/100\n",
      "250/250 [==============================] - 1s 3ms/step - loss: 50138.8086 - mae: 50138.8086 - val_loss: 50555.3320 - val_mae: 50555.3320\n",
      "Epoch 13/100\n",
      "250/250 [==============================] - 1s 3ms/step - loss: 50060.0977 - mae: 50060.0977 - val_loss: 50517.0391 - val_mae: 50517.0391\n",
      "Epoch 14/100\n",
      "250/250 [==============================] - 1s 4ms/step - loss: 50005.4414 - mae: 50005.4414 - val_loss: 50485.9570 - val_mae: 50485.9570\n",
      "Epoch 15/100\n",
      "250/250 [==============================] - 1s 3ms/step - loss: 49958.8320 - mae: 49958.8320 - val_loss: 50464.5039 - val_mae: 50464.5039\n",
      "Epoch 16/100\n",
      "250/250 [==============================] - 1s 4ms/step - loss: 49921.2344 - mae: 49921.2344 - val_loss: 50456.0547 - val_mae: 50456.0547\n",
      "Epoch 17/100\n",
      "250/250 [==============================] - 1s 2ms/step - loss: 49885.0352 - mae: 49885.0352 - val_loss: 50434.0781 - val_mae: 50434.0781\n",
      "Epoch 18/100\n",
      "250/250 [==============================] - 1s 3ms/step - loss: 49858.1953 - mae: 49858.1953 - val_loss: 50418.3320 - val_mae: 50418.3320\n",
      "Epoch 19/100\n",
      "250/250 [==============================] - 1s 4ms/step - loss: 49827.0898 - mae: 49827.0898 - val_loss: 50397.5898 - val_mae: 50397.5898\n",
      "Epoch 20/100\n",
      "250/250 [==============================] - 1s 4ms/step - loss: 49800.9062 - mae: 49800.9062 - val_loss: 50387.6211 - val_mae: 50387.6211\n",
      "Epoch 21/100\n",
      "250/250 [==============================] - 1s 3ms/step - loss: 49774.8906 - mae: 49774.8906 - val_loss: 50373.6250 - val_mae: 50373.6250\n",
      "Epoch 22/100\n",
      "250/250 [==============================] - 1s 4ms/step - loss: 49753.9219 - mae: 49753.9219 - val_loss: 50366.4727 - val_mae: 50366.4727\n",
      "Epoch 23/100\n",
      "250/250 [==============================] - 1s 4ms/step - loss: 49737.4258 - mae: 49737.4258 - val_loss: 50367.7734 - val_mae: 50367.7734\n",
      "Epoch 24/100\n",
      "250/250 [==============================] - 1s 3ms/step - loss: 49714.9219 - mae: 49714.9219 - val_loss: 50358.8594 - val_mae: 50358.8594\n",
      "Epoch 25/100\n",
      "250/250 [==============================] - 1s 4ms/step - loss: 49697.3984 - mae: 49697.3984 - val_loss: 50343.1680 - val_mae: 50343.1680\n",
      "Epoch 26/100\n",
      "250/250 [==============================] - 1s 4ms/step - loss: 49681.9414 - mae: 49681.9414 - val_loss: 50338.7656 - val_mae: 50338.7656\n",
      "Epoch 27/100\n",
      "250/250 [==============================] - 1s 3ms/step - loss: 49671.4297 - mae: 49671.4297 - val_loss: 50335.4727 - val_mae: 50335.4727\n",
      "Epoch 28/100\n",
      "250/250 [==============================] - 1s 4ms/step - loss: 49655.7188 - mae: 49655.7188 - val_loss: 50330.4727 - val_mae: 50330.4727\n",
      "Epoch 29/100\n",
      "250/250 [==============================] - 1s 4ms/step - loss: 49641.4297 - mae: 49641.4297 - val_loss: 50330.1641 - val_mae: 50330.1641\n",
      "Epoch 30/100\n",
      "250/250 [==============================] - 1s 3ms/step - loss: 49629.8281 - mae: 49629.8281 - val_loss: 50325.2578 - val_mae: 50325.2578\n",
      "Epoch 31/100\n",
      "250/250 [==============================] - 1s 3ms/step - loss: 49617.0781 - mae: 49617.0781 - val_loss: 50324.8164 - val_mae: 50324.8164\n",
      "Epoch 32/100\n",
      "250/250 [==============================] - 1s 3ms/step - loss: 49605.0078 - mae: 49605.0078 - val_loss: 50316.6484 - val_mae: 50316.6484\n",
      "Epoch 33/100\n",
      "250/250 [==============================] - 1s 3ms/step - loss: 49596.2539 - mae: 49596.2539 - val_loss: 50312.5195 - val_mae: 50312.5195\n",
      "Epoch 34/100\n",
      "250/250 [==============================] - 1s 2ms/step - loss: 49584.5352 - mae: 49584.5352 - val_loss: 50311.0742 - val_mae: 50311.0742\n",
      "Epoch 35/100\n",
      "250/250 [==============================] - 1s 2ms/step - loss: 49576.2344 - mae: 49576.2344 - val_loss: 50306.9453 - val_mae: 50306.9453\n",
      "Epoch 36/100\n",
      "250/250 [==============================] - 1s 2ms/step - loss: 49568.9219 - mae: 49568.9219 - val_loss: 50304.2266 - val_mae: 50304.2266\n",
      "Epoch 37/100\n",
      "250/250 [==============================] - 1s 2ms/step - loss: 49556.5352 - mae: 49556.5352 - val_loss: 50291.8828 - val_mae: 50291.8828\n",
      "Epoch 38/100\n",
      "250/250 [==============================] - 0s 2ms/step - loss: 49551.6719 - mae: 49551.6719 - val_loss: 50293.9922 - val_mae: 50293.9922\n",
      "Epoch 39/100\n",
      "250/250 [==============================] - 0s 2ms/step - loss: 49540.6875 - mae: 49540.6875 - val_loss: 50288.4492 - val_mae: 50288.4492\n",
      "Epoch 40/100\n",
      "250/250 [==============================] - 1s 2ms/step - loss: 49528.4258 - mae: 49528.4258 - val_loss: 50297.9844 - val_mae: 50297.9844\n",
      "Epoch 41/100\n",
      "250/250 [==============================] - 0s 2ms/step - loss: 49525.8555 - mae: 49525.8555 - val_loss: 50289.6602 - val_mae: 50289.6602\n",
      "Epoch 42/100\n",
      "250/250 [==============================] - 1s 3ms/step - loss: 49517.4766 - mae: 49517.4766 - val_loss: 50283.7383 - val_mae: 50283.7383\n",
      "Epoch 43/100\n",
      "250/250 [==============================] - 1s 3ms/step - loss: 49507.1992 - mae: 49507.1992 - val_loss: 50286.0977 - val_mae: 50286.0977\n",
      "Epoch 44/100\n",
      "250/250 [==============================] - 1s 3ms/step - loss: 49499.3281 - mae: 49499.3281 - val_loss: 50290.0000 - val_mae: 50290.0000\n",
      "Epoch 45/100\n",
      "250/250 [==============================] - 1s 3ms/step - loss: 49493.3906 - mae: 49493.3906 - val_loss: 50275.9844 - val_mae: 50275.9844\n",
      "Epoch 46/100\n",
      "250/250 [==============================] - 1s 3ms/step - loss: 49490.1953 - mae: 49490.1953 - val_loss: 50291.3359 - val_mae: 50291.3359\n",
      "Epoch 47/100\n",
      "250/250 [==============================] - 1s 2ms/step - loss: 49477.6797 - mae: 49477.6797 - val_loss: 50284.9062 - val_mae: 50284.9062\n",
      "Epoch 48/100\n",
      "250/250 [==============================] - 1s 2ms/step - loss: 49473.8047 - mae: 49473.8047 - val_loss: 50283.8789 - val_mae: 50283.8789\n",
      "Epoch 49/100\n",
      "250/250 [==============================] - 1s 2ms/step - loss: 49464.1367 - mae: 49464.1367 - val_loss: 50276.0625 - val_mae: 50276.0625\n",
      "Epoch 50/100\n",
      "250/250 [==============================] - 0s 2ms/step - loss: 49458.5234 - mae: 49458.5234 - val_loss: 50283.9141 - val_mae: 50283.9141\n",
      "Epoch 51/100\n",
      "250/250 [==============================] - 1s 2ms/step - loss: 49456.0508 - mae: 49456.0508 - val_loss: 50286.4531 - val_mae: 50286.4531\n",
      "Epoch 52/100\n",
      "250/250 [==============================] - 1s 2ms/step - loss: 49449.1406 - mae: 49449.1406 - val_loss: 50279.5039 - val_mae: 50279.5039\n",
      "Epoch 53/100\n",
      "250/250 [==============================] - 1s 2ms/step - loss: 49442.8672 - mae: 49442.8672 - val_loss: 50280.8398 - val_mae: 50280.8398\n",
      "Epoch 54/100\n",
      "250/250 [==============================] - 1s 2ms/step - loss: 49436.5156 - mae: 49436.5156 - val_loss: 50279.5195 - val_mae: 50279.5195\n",
      "Epoch 55/100\n",
      "250/250 [==============================] - 1s 2ms/step - loss: 49433.5039 - mae: 49433.5039 - val_loss: 50294.1875 - val_mae: 50294.1875\n"
     ]
    }
   ],
   "source": [
    "# Train the model\n",
    "history= model.fit(\n",
    "    X_train, Y_train,\n",
    "    validation_data=(X_test,Y_test),\n",
    "    epochs=100,\n",
    "    callbacks=[early_stopping_callback,tensorboard_callback]\n",
    ")"
   ]
  },
  {
   "cell_type": "code",
   "execution_count": 26,
   "id": "1a1dc859",
   "metadata": {},
   "outputs": [],
   "source": [
    "%load_ext tensorboard"
   ]
  },
  {
   "cell_type": "code",
   "execution_count": null,
   "id": "909fed69",
   "metadata": {},
   "outputs": [
    {
     "data": {
      "text/plain": [
       "Reusing TensorBoard on port 6006 (pid 30028), started 0:01:22 ago. (Use '!kill 30028' to kill it.)"
      ]
     },
     "metadata": {},
     "output_type": "display_data"
    },
    {
     "data": {
      "text/html": [
       "\n",
       "      <iframe id=\"tensorboard-frame-ac8e2c1b4d99125\" width=\"100%\" height=\"800\" frameborder=\"0\">\n",
       "      </iframe>\n",
       "      <script>\n",
       "        (function() {\n",
       "          const frame = document.getElementById(\"tensorboard-frame-ac8e2c1b4d99125\");\n",
       "          const url = new URL(\"http://localhost\");\n",
       "          const port = 6006;\n",
       "          if (port) {\n",
       "            url.port = port;\n",
       "          }\n",
       "          frame.src = url;\n",
       "        })();\n",
       "      </script>\n",
       "    "
      ],
      "text/plain": [
       "<IPython.core.display.HTML object>"
      ]
     },
     "metadata": {},
     "output_type": "display_data"
    }
   ],
   "source": [
    "%tensorboard --logdir regressionlogs/fit "
   ]
  },
  {
   "cell_type": "code",
   "execution_count": 30,
   "id": "87314ade",
   "metadata": {},
   "outputs": [
    {
     "name": "stdout",
     "output_type": "stream",
     "text": [
      "63/63 [==============================] - 0s 2ms/step - loss: 50275.9844 - mae: 50275.9844\n",
      "Test MAE:50275.984375\n"
     ]
    }
   ],
   "source": [
    "## Evaluate model on test data\n",
    "test_loss, test_mae= model.evaluate(X_test,Y_test)\n",
    "print(f'Test MAE:{test_mae}')"
   ]
  },
  {
   "cell_type": "code",
   "execution_count": 31,
   "id": "e15096a0",
   "metadata": {},
   "outputs": [
    {
     "name": "stderr",
     "output_type": "stream",
     "text": [
      "c:\\Users\\iamsh\\Python\\envs\\denv\\lib\\site-packages\\keras\\src\\engine\\training.py:3103: UserWarning: You are saving your model as an HDF5 file via `model.save()`. This file format is considered legacy. We recommend using instead the native Keras format, e.g. `model.save('my_model.keras')`.\n",
      "  saving_api.save_model(\n"
     ]
    }
   ],
   "source": [
    "model.save('regression_model.h5')"
   ]
  },
  {
   "cell_type": "code",
   "execution_count": null,
   "id": "e1619b67",
   "metadata": {},
   "outputs": [],
   "source": []
  }
 ],
 "metadata": {
  "kernelspec": {
   "display_name": "denv",
   "language": "python",
   "name": "python3"
  },
  "language_info": {
   "codemirror_mode": {
    "name": "ipython",
    "version": 3
   },
   "file_extension": ".py",
   "mimetype": "text/x-python",
   "name": "python",
   "nbconvert_exporter": "python",
   "pygments_lexer": "ipython3",
   "version": "3.10.18"
  }
 },
 "nbformat": 4,
 "nbformat_minor": 5
}
